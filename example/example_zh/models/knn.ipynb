{
 "cells": [
  {
   "metadata": {},
   "cell_type": "markdown",
   "source": "# 基于动态时间扭曲的K近邻聚类算法的使用样例",
   "id": "6affb6ad21dd5ef5"
  },
  {
   "metadata": {},
   "cell_type": "markdown",
   "source": "1. 导入所需的库",
   "id": "fc09213cfd5027a6"
  },
  {
   "metadata": {},
   "cell_type": "code",
   "outputs": [],
   "execution_count": null,
   "source": [
    "import numpy as np\n",
    "from matplotlib import pyplot as plt\n",
    "\n",
    "from typing import Tuple\n",
    "\n",
    "# 导入K近邻算法模块\n",
    "from pysdkit.models import KNN"
   ],
   "id": "5a9c65e8872c5e8"
  },
  {
   "metadata": {},
   "cell_type": "markdown",
   "source": "2. 生成用于测试K近邻算法的数据",
   "id": "229d74041268136b"
  },
  {
   "metadata": {
    "ExecuteTime": {
     "end_time": "2025-07-22T01:52:18.079851Z",
     "start_time": "2025-07-22T01:52:18.066854Z"
    }
   },
   "cell_type": "code",
   "source": [
    "def random_rotate_subspace(X, dims=(0, 1)):\n",
    "    \"\"\"X: shape [n_samples, n_features]\"\"\"\n",
    "    d1, d2 = dims\n",
    "    n_samples = X.shape[0]\n",
    "    angles = np.random.uniform(0, 2 * np.pi, size=n_samples)\n",
    "    cos, sin = np.cos(angles), np.sin(angles)\n",
    "    X_rot = X.copy()\n",
    "    X_rot[:, d1] = cos * X[:, d1] - sin * X[:, d2]\n",
    "    X_rot[:, d2] = sin * X[:, d1] + cos * X[:, d2]\n",
    "    return X_rot\n",
    "\n",
    "\n",
    "def test_knn_data(\n",
    "    n_classes: int = 5, number: int = 10, length: int = 256, random_state: int = 42\n",
    ") -> Tuple[np.ndarray, np.ndarray]:\n",
    "    \"\"\"\n",
    "    生成用于测试K近邻算法的函数\n",
    "\n",
    "    :param n_classes: 用于测试的类别数目\n",
    "    :param length: 生成测试数据的长度\n",
    "    :param random_state: 测试使用的随机种子\n",
    "    :return: 生成的测试时间序列数据样本和标签\n",
    "    \"\"\"\n",
    "    rng = np.random.RandomState(random_state)\n",
    "    samples, labels = [], []\n",
    "\n",
    "    for c in range(n_classes):\n",
    "        # 生成该类别的均值和方差\n",
    "        mean = rng.uniform(low=-10, high=10)\n",
    "        noise = rng.normal(loc=mean, scale=1, size=length)\n",
    "        for i in range(number):\n",
    "            samples.append(rng.rand(length) * mean + noise)\n",
    "            labels.append(c)\n",
    "\n",
    "    return random_rotate_subspace(np.array(samples)), np.array(labels)\n",
    "\n",
    "\n",
    "# 生成用于训练的数据\n",
    "samples, labels = test_knn_data(n_classes=4, number=10, length=128, random_state=42)\n",
    "# 打印训练样本的形状\n",
    "print(\"training X\", samples.shape)\n",
    "print(\"training y\", labels.shape)\n",
    "\n",
    "# 生成用于测试的数据\n",
    "test_samples, test_labels = test_knn_data(\n",
    "    n_classes=2, number=1, length=128, random_state=42\n",
    ")\n",
    "# 打印测试数据的形状\n",
    "print(\"testing X\", test_samples.shape)\n",
    "print(\"testing y\", test_labels.shape)"
   ],
   "id": "b5eb920585cbbe8c",
   "outputs": [
    {
     "name": "stdout",
     "output_type": "stream",
     "text": [
      "training samples (40, 128)\n",
      "training labels (40,)\n",
      "testing samples (2, 128)\n",
      "testing labels (2,)\n"
     ]
    }
   ],
   "execution_count": 72
  },
  {
   "metadata": {},
   "cell_type": "markdown",
   "source": "3. 创建基于动态时间扭曲的K近邻分类器实例",
   "id": "8136d103c15c4374"
  },
  {
   "metadata": {
    "ExecuteTime": {
     "end_time": "2025-07-22T01:52:18.801527Z",
     "start_time": "2025-07-22T01:52:18.787524Z"
    }
   },
   "cell_type": "code",
   "source": [
    "knn = KNN()\n",
    "knn.fit(samples, labels)"
   ],
   "id": "3de14eb5196e4c65",
   "outputs": [],
   "execution_count": 73
  },
  {
   "metadata": {},
   "cell_type": "markdown",
   "source": "4. 执行K近邻算法得到分类结果和该结果的概率",
   "id": "e610ce5dca7f4c9"
  },
  {
   "metadata": {
    "ExecuteTime": {
     "end_time": "2025-07-22T01:55:09.794693Z",
     "start_time": "2025-07-22T01:55:05.618264Z"
    }
   },
   "cell_type": "code",
   "source": [
    "(pred, prob) = knn.predict(test_samples)\n",
    "\n",
    "print(f\"测试样本属于类别: {pred}\")\n",
    "print(f\"属于该类别的概率是: {prob}\")"
   ],
   "id": "97e3954a2f957fe8",
   "outputs": [
    {
     "name": "stdout",
     "output_type": "stream",
     "text": [
      "测试样本属于类别: [0 2]\n",
      "属于该类别的概率是: [1. 1.]\n"
     ]
    }
   ],
   "execution_count": 80
  },
  {
   "metadata": {},
   "cell_type": "markdown",
   "source": "5. 导入PCA主成分分析算法用于降维可视化",
   "id": "1c3431f663c891f7"
  },
  {
   "metadata": {
    "ExecuteTime": {
     "end_time": "2025-07-22T01:56:09.171648Z",
     "start_time": "2025-07-22T01:56:09.125562Z"
    }
   },
   "cell_type": "code",
   "source": [
    "from pysdkit.models import PCA\n",
    "\n",
    "pca = PCA(n_components=2)\n",
    "samples_decom = pca.fit_transform(samples)\n",
    "print(samples_decom.shape)"
   ],
   "id": "fc4f492168dccbe8",
   "outputs": [
    {
     "name": "stdout",
     "output_type": "stream",
     "text": [
      "(40, 2)\n"
     ]
    }
   ],
   "execution_count": 81
  },
  {
   "metadata": {},
   "cell_type": "markdown",
   "source": "6. 可视化分类结果",
   "id": "fd9a365d7534f60e"
  },
  {
   "metadata": {
    "ExecuteTime": {
     "end_time": "2025-07-22T02:01:48.550630Z",
     "start_time": "2025-07-22T02:01:48.475653Z"
    }
   },
   "cell_type": "code",
   "source": [
    "fig, ax = plt.subplots(figsize=(8, 6))\n",
    "\n",
    "ax.scatter(samples_decom[:, 0], samples_decom[:, 1], c=labels)\n",
    "ax.scatter(test_samples[:, 0], test_samples[:, 1], color=\"k\")"
   ],
   "id": "eda2bfd49cb59640",
   "outputs": [
    {
     "data": {
      "text/plain": [
       "<matplotlib.collections.PathCollection at 0x1c72191ffa0>"
      ]
     },
     "execution_count": 85,
     "metadata": {},
     "output_type": "execute_result"
    },
    {
     "data": {
      "text/plain": [
       "<Figure size 800x600 with 1 Axes>"
      ],
      "image/png": "[encoded data removed]"
     },
     "metadata": {},
     "output_type": "display_data"
    }
   ],
   "execution_count": 85
  },
  {
   "metadata": {},
   "cell_type": "code",
   "outputs": [],
   "execution_count": null,
   "source": "",
   "id": "6a8fe844530c038f"
  }
 ],
 "metadata": {
  "kernelspec": {
   "display_name": "Python 3",
   "language": "python",
   "name": "python3"
  },
  "language_info": {
   "codemirror_mode": {
    "name": "ipython",
    "version": 2
   },
   "file_extension": ".py",
   "mimetype": "text/x-python",
   "name": "python",
   "nbconvert_exporter": "python",
   "pygments_lexer": "ipython2",
   "version": "2.7.6"
  }
 },
 "nbformat": 4,
 "nbformat_minor": 5
}
