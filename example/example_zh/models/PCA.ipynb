{
 "cells": [
  {
   "metadata": {},
   "cell_type": "markdown",
   "source": [
    "# PCA（Principal Component Analysis，主成分分析）算法使用示例\n",
    "\n",
    "PCA（Principal Component Analysis，主成分分析）是一种经典的无监督降维与特征提取方法，其核心思想是：**在保留数据最大方差（即最大信息量）的前提下，将原始高维数据投影到一个由少数几个线性无关方向（主成分）张成的低维子空间。**\n",
    "\n",
    "### 一、算法直观理解\n",
    "1. **方差最大化**：主成分是数据中方差最大的方向，后续主成分与之前所有主成分正交且方差次大。\n",
    "2. **几何意义**：相当于对原始坐标系做刚性旋转，使得新坐标轴（主成分）依次指向数据散布最大的方向。\n",
    "3. **降维**：舍弃方差较小的主成分，用剩余主成分近似原始数据。\n",
    "\n",
    "### 二、数学推导与关键公式\n",
    "\n",
    "#### 1. 数据中心化\n",
    "原始数据矩阵 $X \\in \\mathbb{R}^{n \\times d}$（$n$个样本，$d$个特征）：\n",
    "\\[\n",
    "\\bar{X} = X - \\frac{1}{n} \\mathbf{1}\\mathbf{1}^T X\n",
    "\\]\n",
    "其中 \\( \\mathbf{1} \\in \\mathbb{R}^n \\) 是全1向量。\n",
    "\n",
    "#### 2. 协方差矩阵\n",
    "计算中心化后数据的协方差矩阵：\n",
    "\\[\n",
    "C = \\frac{1}{n-1} \\bar{X}^T \\bar{X} \\in \\mathbb{R}^{d \\times d}\n",
    "\\]\n",
    "协方差矩阵 \\( C \\) 是对称半正定的，其特征值分解为：\n",
    "\\[\n",
    "C = V \\Lambda V^T\n",
    "\\]\n",
    "- \\( \\Lambda = \\text{diag}(\\lambda_1, \\lambda_2, \\dots, \\lambda_d) \\)：特征值按降序排列 \\( \\lambda_1 \\geq \\lambda_2 \\geq \\dots \\geq \\lambda_d \\geq 0 \\)\n",
    "- \\( V = [v_1, v_2, \\dots, v_d] \\)：对应的正交特征向量（即主成分方向）。\n",
    "\n",
    "#### 3. 降维投影\n",
    "选择前 \\( k \\) 个主成分（\\( k \\ll d \\)），构造投影矩阵 \\( W = [v_1, v_2, \\dots, v_k] \\in \\mathbb{R}^{d \\times k} \\)：\n",
    "\\[\n",
    "Z = \\bar{X} W \\in \\mathbb{R}^{n \\times k}\n",
    "\\]\n",
    "\\( Z \\) 即为降维后的数据。\n",
    "\n",
    "#### 4. 重构误差（基于低秩近似）\n",
    "用前 \\( k \\) 个主成分重构数据：\n",
    "\\[\n",
    "\\hat{X} = Z W^T + \\frac{1}{n} \\mathbf{1}\\mathbf{1}^T X\n",
    "\\]\n",
    "重构误差（平方Frobenius范数）为：\n",
    "\\[\n",
    "\\|X - \\hat{X}\\|_F^2 = \\sum_{i=k+1}^d \\lambda_i\n",
    "\\]\n",
    "即被舍弃的特征值之和。"
   ],
   "id": "d20d1ea844d62de2"
  },
  {
   "metadata": {
    "ExecuteTime": {
     "end_time": "2025-07-22T13:49:43.540292Z",
     "start_time": "2025-07-22T13:49:43.194523Z"
    }
   },
   "cell_type": "code",
   "source": [
    "import numpy as np\n",
    "from matplotlib import pyplot as plt"
   ],
   "id": "c59419efaf5b6f7e",
   "outputs": [],
   "execution_count": 2
  },
  {
   "metadata": {},
   "cell_type": "markdown",
   "source": "",
   "id": "634183e0b9bdb87"
  },
  {
   "cell_type": "code",
   "id": "initial_id",
   "metadata": {
    "collapsed": true,
    "ExecuteTime": {
     "end_time": "2025-07-22T13:49:43.922640Z",
     "start_time": "2025-07-22T13:49:43.543692Z"
    }
   },
   "source": [
    "from pysdkit.models import PCA\n",
    "from pysdkit.data import test_pca"
   ],
   "outputs": [],
   "execution_count": 3
  },
  {
   "metadata": {},
   "cell_type": "markdown",
   "source": [
    "### 三、算法步骤总结\n",
    "1. **中心化**：计算并减去均值。\n",
    "2. **协方差矩阵**：计算$C = \\frac{1}{n-1} \\bar{X}^T \\bar{X}$。\n",
    "3. **特征分解**：求$C$的特征值与特征向量，按特征值降序排序。\n",
    "4. **选择主成分**：根据方差贡献率（如$\\frac{\\sum_{i=1}^k \\lambda_i}{\\sum_{i=1}^d \\lambda_i} \\geq 95\\%$）选取前$k$个主成分。\n",
    "5. **投影降维**：$Z = \\bar{X} W$。"
   ],
   "id": "92b09a1156ab6f93"
  },
  {
   "metadata": {
    "ExecuteTime": {
     "end_time": "2025-07-22T13:49:44.033737Z",
     "start_time": "2025-07-22T13:49:43.955149Z"
    }
   },
   "cell_type": "code",
   "source": [
    "X = test_pca()\n",
    "plt.scatter(X[:, 0], X[:, 1], color=\"royalblue\")"
   ],
   "id": "3dccb4e6e8c9c99",
   "outputs": [
    {
     "data": {
      "text/plain": [
       "<matplotlib.collections.PathCollection at 0x1d8c12ce6e0>"
      ]
     },
     "execution_count": 4,
     "metadata": {},
     "output_type": "execute_result"
    },
    {
     "data": {
      "text/plain": [
       "<Figure size 640x480 with 1 Axes>"
      ],
      "image/png": "[encoded data removed]"
     },
     "metadata": {},
     "output_type": "display_data"
    }
   ],
   "execution_count": 4
  },
  {
   "metadata": {
    "ExecuteTime": {
     "end_time": "2025-07-22T13:50:36.211558Z",
     "start_time": "2025-07-22T13:50:36.199047Z"
    }
   },
   "cell_type": "code",
   "source": [
    "pca = PCA(n_components=2)\n",
    "X_decom = pca.fit_transform(X=X)\n",
    "X_decom.shape"
   ],
   "id": "aa02057b1ec13833",
   "outputs": [
    {
     "data": {
      "text/plain": [
       "(200, 2)"
      ]
     },
     "execution_count": 14,
     "metadata": {},
     "output_type": "execute_result"
    }
   ],
   "execution_count": 14
  },
  {
   "metadata": {
    "ExecuteTime": {
     "end_time": "2025-07-22T13:50:36.773497Z",
     "start_time": "2025-07-22T13:50:36.761441Z"
    }
   },
   "cell_type": "code",
   "source": "pca.explained_variance_ratio_",
   "id": "25856a1356304fd7",
   "outputs": [
    {
     "data": {
      "text/plain": [
       "[0.9469577261065206, 0.053042273893479465]"
      ]
     },
     "execution_count": 15,
     "metadata": {},
     "output_type": "execute_result"
    }
   ],
   "execution_count": 15
  },
  {
   "metadata": {
    "ExecuteTime": {
     "end_time": "2025-07-22T13:50:37.182816Z",
     "start_time": "2025-07-22T13:50:37.105748Z"
    }
   },
   "cell_type": "code",
   "source": [
    "def draw_vector(v0, v1, ax=None):\n",
    "    ax = ax or plt.gca()\n",
    "    arrowprops = dict(arrowstyle=\"->\", linewidth=2, shrinkA=0, shrinkB=0)\n",
    "    ax.annotate(\"\", v1, v0, arrowprops=arrowprops)\n",
    "\n",
    "\n",
    "plt.scatter(X[:, 0], X[:, 1], color=\"royalblue\")\n",
    "for length, vector in zip(pca.explained_variance_ratio_, pca.components_):\n",
    "    v = np.array(vector) * 3 * np.sqrt(length)\n",
    "    draw_vector(v0=pca.mean_, v1=pca.mean_ + v)"
   ],
   "id": "9d98403266899106",
   "outputs": [
    {
     "name": "stdout",
     "output_type": "stream",
     "text": [
      "[2.16927747 1.95367725]\n",
      "[0.04264695 0.00793155] [2.21192441 1.9616088 ]\n",
      "[-0.46237952  0.51340593]\n",
      "[0.04264695 0.00793155] [-0.41973258  0.52133748]\n"
     ]
    },
    {
     "data": {
      "text/plain": [
       "<Figure size 640x480 with 1 Axes>"
      ],
      "image/png": "[encoded data removed]"
     },
     "metadata": {},
     "output_type": "display_data"
    }
   ],
   "execution_count": 16
  },
  {
   "metadata": {
    "ExecuteTime": {
     "end_time": "2025-07-22T13:49:44.522479Z",
     "start_time": "2025-07-22T13:49:44.507475Z"
    }
   },
   "cell_type": "code",
   "source": "",
   "id": "1ce205d7713eed0e",
   "outputs": [],
   "execution_count": null
  }
 ],
 "metadata": {
  "kernelspec": {
   "display_name": "Python 3",
   "language": "python",
   "name": "python3"
  },
  "language_info": {
   "codemirror_mode": {
    "name": "ipython",
    "version": 2
   },
   "file_extension": ".py",
   "mimetype": "text/x-python",
   "name": "python",
   "nbconvert_exporter": "python",
   "pygments_lexer": "ipython2",
   "version": "2.7.6"
  }
 },
 "nbformat": 4,
 "nbformat_minor": 5
}
