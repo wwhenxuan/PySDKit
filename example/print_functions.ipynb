{
 "cells": [
  {
   "cell_type": "code",
   "id": "initial_id",
   "metadata": {
    "collapsed": true,
    "ExecuteTime": {
     "end_time": "2025-05-01T03:05:36.293863Z",
     "start_time": "2025-05-01T03:05:36.279724Z"
    }
   },
   "source": [
    "from pysdkit import greet, print_functions"
   ],
   "outputs": [],
   "execution_count": 4
  },
  {
   "metadata": {
    "ExecuteTime": {
     "end_time": "2025-05-01T03:05:36.573323Z",
     "start_time": "2025-05-01T03:05:36.559326Z"
    }
   },
   "cell_type": "code",
   "source": [
    "greet()"
   ],
   "id": "d5d767610ef7b98",
   "outputs": [
    {
     "name": "stdout",
     "output_type": "stream",
     "text": [
      "\n",
      " ____          ____   ____   _  __ _  _   \n",
      "|  _ \\  _   _ / ___| |  _ \\ | |/ /(_)| |_ \n",
      "| |_) || | | |\\___ \\ | | | || ' / | || __|\n",
      "|  __/ | |_| | ___) || |_| || . \\ | || |_ \n",
      "|_|     \\__, ||____/ |____/ |_|\\_\\|_| \\__|\n",
      "        |___/                                            \n",
      "    \n",
      "A Python library for signal decomposition algorithms.\n",
      "https://github.com/wwhenxuan/PySDKit\n"
     ]
    }
   ],
   "execution_count": 5
  },
  {
   "metadata": {
    "ExecuteTime": {
     "end_time": "2025-05-01T03:05:36.995205Z",
     "start_time": "2025-05-01T03:05:36.981205Z"
    }
   },
   "cell_type": "code",
   "source": [
    "print_functions()"
   ],
   "id": "ca10147f3e840419",
   "outputs": [
    {
     "name": "stdout",
     "output_type": "stream",
     "text": [
      "\n",
      "_______________________________________________________________\n",
      "Algorithm Name                                  | Abbreviation\n",
      "_______________________________________________________________\n",
      "Empirical Mode Decomposition                    |    EMD\n",
      "Ensemble Empirical Mode Decomposition           |    EEMD     \n",
      "Complete Ensemble EMD with Adaptive Noise       |    CEEMDAN\n",
      "Robust Empirical Mode Decomposition             |    REMD\n",
      "Multivariate Empirical Mode Decomposition       |    MEMD\n",
      "Time Varying Filter based EMD                   |    TVF_EMD\n",
      "Empirical Fourier Decomposition                 |    EFD\n",
      "Fast and Adaptive Empirical Mode Decomposition  |    FAEMD\n",
      "Empirical Mode Decomposition 2D for images      |    EMD2D\n",
      "Hilbert Vibration Decomposition                 |    HVD\n",
      "Intrinsic Time-Scale Decomposition              |    ITD\n",
      "Local Mean Decomposition                        |    LMD\n",
      "Robust Local Mean Decomposition                 |    RLMD\n",
      "Singular Spectral Analysis                      |    SSA\n",
      "Variational Mode Decomposition                  |    VMD\n",
      "Multivariate Variational Mode Decomposition     |    MVMD\n",
      "Variational Mode Extraction                     |    VME\n",
      "Variational Mode Decomposition for 2D Image     |    VMD2D\n",
      "Compact VMD for 2D Image                        |    CVMD2D\n",
      "Variational Nonlinear Chirp Mode Decomposition  |    VNCMD\n",
      "Iterative Nonlinear Chirp Mode Decomposition    |    INCMD\n",
      "Empirical Wavelet Transform                     |    EWT\n",
      "Jump Plus AM-FM Mode Decomposition              |    JMD\n",
      "Moving Average Decomposition                    |    Moving\n",
      "_______________________________________________________________\n"
     ]
    }
   ],
   "execution_count": 6
  },
  {
   "metadata": {},
   "cell_type": "code",
   "outputs": [],
   "execution_count": null,
   "source": [],
   "id": "55e56c1407712490"
  }
 ],
 "metadata": {
  "kernelspec": {
   "display_name": "Python 3",
   "language": "python",
   "name": "python3"
  },
  "language_info": {
   "codemirror_mode": {
    "name": "ipython",
    "version": 2
   },
   "file_extension": ".py",
   "mimetype": "text/x-python",
   "name": "python",
   "nbconvert_exporter": "python",
   "pygments_lexer": "ipython2",
   "version": "2.7.6"
  }
 },
 "nbformat": 4,
 "nbformat_minor": 5
}
